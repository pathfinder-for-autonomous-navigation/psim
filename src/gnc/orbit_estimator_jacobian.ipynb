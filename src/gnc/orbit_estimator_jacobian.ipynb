{
 "cells": [
  {
   "cell_type": "code",
   "execution_count": null,
   "metadata": {},
   "outputs": [],
   "source": [
    "from sympy import *\n",
    "from sympy.codegen.rewriting import create_expand_pow_optimization\n",
    "from sympy.vector import CoordSys3D\n",
    "\n",
    "init_printing()"
   ]
  },
  {
   "cell_type": "markdown",
   "metadata": {},
   "source": [
    "### Generate Symbols\n",
    "\n",
    "Symbols will be generated for: Earth's gravitational constant, Earth's angular rate in ECEF, the satellites position in ECEF, and the satellite's velocity in ECEF.\n",
    "\n",
    "Vectors for all the above quantities are thenn created."
   ]
  },
  {
   "cell_type": "code",
   "execution_count": null,
   "metadata": {},
   "outputs": [],
   "source": [
    "mu = symbols('mu')\n",
    "wx, wy, wz = symbols('w_x w_y w_z')\n",
    "rx, ry, rz, vx, vy, vz = symbols('r_x r_y r_z v_x v_y v_z')\n",
    "mu, wx, wy, wz, rx, ry, rz, vx, vy, vz"
   ]
  },
  {
   "cell_type": "code",
   "execution_count": null,
   "metadata": {},
   "outputs": [],
   "source": [
    "ECEF = CoordSys3D('ECEF')\n",
    "\n",
    "# Earth's angular rate\n",
    "w = wx * ECEF.i + wy * ECEF.j + wz * ECEF.k\n",
    "\n",
    "# Satellite position and velocity\n",
    "r = rx * ECEF.i + ry * ECEF.j + rz * ECEF.k\n",
    "v = vx * ECEF.i + vy * ECEF.j + vz * ECEF.k"
   ]
  },
  {
   "cell_type": "markdown",
   "metadata": {},
   "source": [
    "### Define Acceleration Terms\n",
    "\n",
    "Expressions are created for the various gravity terms and forces due to working in a nonintertial reference frame."
   ]
  },
  {
   "cell_type": "code",
   "execution_count": null,
   "metadata": {},
   "outputs": [],
   "source": [
    "# Gravity terms\n",
    "J0 = -mu * r / r.magnitude() ** S(3)\n",
    "\n",
    "# Total acceleration\n",
    "a = J0 - S(2) * w.cross(v) - w.cross(w.cross(r))\n",
    "a"
   ]
  },
  {
   "cell_type": "markdown",
   "metadata": {},
   "source": [
    "### Jacobian Calculation\n",
    "\n",
    "The jacobian of time derivative of the state space representation is taken with respect to the state vector."
   ]
  },
  {
   "cell_type": "code",
   "execution_count": null,
   "metadata": {},
   "outputs": [],
   "source": [
    "J = Matrix([v.to_matrix(ECEF), a.to_matrix(ECEF)]).jacobian([r.to_matrix(ECEF), v.to_matrix(ECEF)])\n",
    "J"
   ]
  },
  {
   "cell_type": "markdown",
   "metadata": {},
   "source": [
    "### Code Generation\n",
    "\n",
    "The goal here is to create a code snippet that will be copy pasted into the orbit estimators source file. See `src/gnc/orbit.cpp` for more information."
   ]
  },
  {
   "cell_type": "code",
   "execution_count": null,
   "metadata": {},
   "outputs": [],
   "source": [
    "nr, nr3, nr5 = symbols('nr nr3 nr5')\n",
    "\n",
    "opt = create_expand_pow_optimization(5)"
   ]
  },
  {
   "cell_type": "code",
   "execution_count": null,
   "metadata": {},
   "outputs": [],
   "source": [
    "for i in range(J.rows):\n",
    "    for j in range(J.cols):\n",
    "        expr = J[i, j]\n",
    "        expr = expr.subs(r.magnitude(), nr)\n",
    "        expr = expr.subs(nr * nr * nr, nr3)\n",
    "        expr = expr.subs(nr * nr * nr * nr * nr, nr5)\n",
    "        if expr != S(0):\n",
    "            print('  J({0}, {1}) = '.format(i, j) + cxxcode(opt(expr)) + ';')"
   ]
  }
 ],
 "metadata": {
  "kernelspec": {
   "display_name": "Python 3",
   "language": "python",
   "name": "python3"
  },
  "language_info": {
   "codemirror_mode": {
    "name": "ipython",
    "version": 3
   },
   "file_extension": ".py",
   "mimetype": "text/x-python",
   "name": "python",
   "nbconvert_exporter": "python",
   "pygments_lexer": "ipython3",
   "version": "3.9.1"
  }
 },
 "nbformat": 4,
 "nbformat_minor": 4
}
